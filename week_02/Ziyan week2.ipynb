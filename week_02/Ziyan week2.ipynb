{
 "cells": [
  {
   "cell_type": "code",
   "execution_count": 10,
   "id": "6b562eeb",
   "metadata": {},
   "outputs": [
    {
     "name": "stdout",
     "output_type": "stream",
     "text": [
      "First they came ...\n",
      "\n",
      "\n",
      "BY MARTIN NIEMÖLLER \n",
      "\n",
      "\n",
      "First they came for the Communists\n",
      "And I did not speak out\n",
      "Because I was not a Communists\n",
      "\n",
      "\n",
      "Then they came for the Socialists\n",
      "And I did not speak out\n",
      "Because I was not a Socialists\n",
      "\n",
      "\n",
      "Then they came for the trade unionists\n",
      "And I did not speak out\n",
      "Because I was not a trade unionists\n",
      "\n",
      "\n",
      "Then they came for the Jews\n",
      "And I did not speak out\n",
      "Because I was not a Jews\n",
      "\n",
      "\n",
      "Then they came for me\n",
      "And I did not speak out\n",
      "To speak out for me\n",
      "\n",
      "\n"
     ]
    }
   ],
   "source": [
    "a = \"they came ...\"\n",
    "b = \"by Martin Niemöller \"\n",
    "c = \"Communists\"\n",
    "d = \"Socialists\"\n",
    "e = \"trade unionists\"\n",
    "f = \"Jews\"\n",
    "g = \"me\"\n",
    "h = \"And I did not speak out\"\n",
    "\n",
    "print (f'First {a}')\n",
    "print('\\n')\n",
    "print(b.upper())\n",
    "print('\\n')\n",
    "print('First they came for the', c)\n",
    "print(h)\n",
    "print(\"Because I was not a\", c)\n",
    "print('\\n')\n",
    "print('Then they came for the', d)\n",
    "print(h)\n",
    "print(\"Because I was not a\", d)\n",
    "print('\\n')\n",
    "print('Then they came for the', e)\n",
    "print(h)\n",
    "print(\"Because I was not a\", e)\n",
    "print('\\n')\n",
    "print('Then they came for the', f)\n",
    "print(h)\n",
    "print(\"Because I was not a\", f)\n",
    "print('\\n')\n",
    "print('Then they came for', g)\n",
    "print(h)\n",
    "print(\"To speak out for\", g)\n",
    "print('\\n')"
   ]
  },
  {
   "cell_type": "code",
   "execution_count": null,
   "id": "72c6d11f",
   "metadata": {},
   "outputs": [],
   "source": []
  },
  {
   "cell_type": "code",
   "execution_count": null,
   "id": "0e5de5f4",
   "metadata": {},
   "outputs": [],
   "source": []
  }
 ],
 "metadata": {
  "kernelspec": {
   "display_name": "Python 3",
   "language": "python",
   "name": "python3"
  },
  "language_info": {
   "codemirror_mode": {
    "name": "ipython",
    "version": 3
   },
   "file_extension": ".py",
   "mimetype": "text/x-python",
   "name": "python",
   "nbconvert_exporter": "python",
   "pygments_lexer": "ipython3",
   "version": "3.8.8"
  }
 },
 "nbformat": 4,
 "nbformat_minor": 5
}
